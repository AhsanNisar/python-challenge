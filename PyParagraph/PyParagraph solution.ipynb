{
 "cells": [
  {
   "cell_type": "code",
   "execution_count": null,
   "metadata": {},
   "outputs": [],
   "source": [
    "import re\n",
    "\n",
    "path= r'C:\\Users\\ahsanmuh\\Desktop\\Data Analytics and Visualization\\UTAUS201901DATA3\\homework-instructions\\03-Python\\ExtraContent\\Instructions\\PyParagraph\\raw_data\\paragraph_1\n",
    ".txt'\n",
    "\n",
    "file = open(path,'r')\n",
    "paragraph = \"\"\n",
    "for line in file:\n",
    "    paragraph +=line\n",
    "\n",
    "\n",
    "sentence_count = re.split(\"(?<=[.!?]) +\", paragraph)\n",
    "letter_count = re.split(\"[a-zA-Z]{1}\", paragraph)\n",
    "word_count = re.split(\"[a-zA-Z]+\", paragraph)\n",
    "\n",
    "\n",
    "print ('Paragraph Analysis')\n",
    "print ('-----------------')\n",
    "print (f'Approximate Word Count: {len(word_count)}')\n",
    "print (f'Approximate Sentence Count: {len(sentence_count)}')\n",
    "print (f'Average Letter Count: {len(letter_count)/len(word_count)}')\n",
    "print (f'Average Sentence Length: {len(word_count)/len(sentence_count)}')\n",
    "\n"
   ]
  },
  {
   "cell_type": "code",
   "execution_count": null,
   "metadata": {},
   "outputs": [],
   "source": []
  }
 ],
 "metadata": {
  "kernelspec": {
   "display_name": "Python 3",
   "language": "python",
   "name": "python3"
  },
  "language_info": {
   "codemirror_mode": {
    "name": "ipython",
    "version": 3
   },
   "file_extension": ".py",
   "mimetype": "text/x-python",
   "name": "python",
   "nbconvert_exporter": "python",
   "pygments_lexer": "ipython3",
   "version": "3.7.1"
  }
 },
 "nbformat": 4,
 "nbformat_minor": 2
}
